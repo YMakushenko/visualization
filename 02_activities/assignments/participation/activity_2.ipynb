{
 "cells": [
  {
   "cell_type": "markdown",
   "metadata": {},
   "source": [
    "Visualization #1.\n",
    "\n",
    "What information can we learn from this visualization?\n",
    "\n",
    "How many people killed by gun killings by the cumulative total in 2018.\n",
    "\n",
    "Is this an example of objective, neutral data visualization? Why or why not?\n",
    "\n",
    "I think no, because we have subjective opinion how long they could live.\n",
    "Might have missed something, but I don't think you'll ever be fully objective in delivering data because you're always making a decision on what to report.\n",
    "I don’t believe its neutral but for a topic like this, I think the way the data is presented shows how big of an issue guns are in the US.\n",
    "This is such an abstract concept \"472,332 stolen years\". I think it doesn't show anything to the users. In this case, it would be better to calculate the amount of stolen years per person."
   ]
  },
  {
   "cell_type": "markdown",
   "metadata": {},
   "source": [
    "Visualization #2.\n",
    "\n",
    "We see the growth of the active shooters year by year, with a peak in the 2010.\n",
    "Neutral colors.\n",
    "Looks like they adopted some law on increasing the punishment in 2011 or strengthen the gun ban."
   ]
  },
  {
   "cell_type": "markdown",
   "metadata": {},
   "source": [
    "Visualization #3.\n",
    "\n",
    "A: Emphasis on the level.\n",
    "B: Emphasis on the trend."
   ]
  }
 ],
 "metadata": {
  "kernelspec": {
   "display_name": "dsi_participant",
   "language": "python",
   "name": "python3"
  },
  "language_info": {
   "codemirror_mode": {
    "name": "ipython",
    "version": 3
   },
   "file_extension": ".py",
   "mimetype": "text/x-python",
   "name": "python",
   "nbconvert_exporter": "python",
   "pygments_lexer": "ipython3",
   "version": "3.9.15"
  }
 },
 "nbformat": 4,
 "nbformat_minor": 2
}
